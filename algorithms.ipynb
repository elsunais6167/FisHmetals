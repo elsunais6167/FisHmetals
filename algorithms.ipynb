{
 "cells": [
  {
   "cell_type": "code",
   "execution_count": 1,
   "metadata": {},
   "outputs": [],
   "source": [
    "#Load statistical analysis\n",
    "import pandas as pd\n",
    "import statsmodels.api as sm\n",
    "from statsmodels.formula.api import ols\n",
    "from statsmodels.stats.multicomp import MultiComparison, pairwise_tukeyhsd"
   ]
  },
  {
   "cell_type": "code",
   "execution_count": 2,
   "metadata": {},
   "outputs": [
    {
     "data": {
      "text/html": [
       "<div>\n",
       "<style scoped>\n",
       "    .dataframe tbody tr th:only-of-type {\n",
       "        vertical-align: middle;\n",
       "    }\n",
       "\n",
       "    .dataframe tbody tr th {\n",
       "        vertical-align: top;\n",
       "    }\n",
       "\n",
       "    .dataframe thead th {\n",
       "        text-align: right;\n",
       "    }\n",
       "</style>\n",
       "<table border=\"1\" class=\"dataframe\">\n",
       "  <thead>\n",
       "    <tr style=\"text-align: right;\">\n",
       "      <th></th>\n",
       "      <th>Samples</th>\n",
       "      <th>Cu</th>\n",
       "      <th>Cd</th>\n",
       "      <th>Zn</th>\n",
       "      <th>Pb</th>\n",
       "    </tr>\n",
       "  </thead>\n",
       "  <tbody>\n",
       "    <tr>\n",
       "      <th>0</th>\n",
       "      <td>Liver</td>\n",
       "      <td>0.320</td>\n",
       "      <td>0.012</td>\n",
       "      <td>0.2311</td>\n",
       "      <td>0.240</td>\n",
       "    </tr>\n",
       "    <tr>\n",
       "      <th>1</th>\n",
       "      <td>Liver</td>\n",
       "      <td>0.284</td>\n",
       "      <td>0.009</td>\n",
       "      <td>0.1040</td>\n",
       "      <td>0.230</td>\n",
       "    </tr>\n",
       "    <tr>\n",
       "      <th>2</th>\n",
       "      <td>Intestine</td>\n",
       "      <td>0.010</td>\n",
       "      <td>0.013</td>\n",
       "      <td>0.0590</td>\n",
       "      <td>0.420</td>\n",
       "    </tr>\n",
       "    <tr>\n",
       "      <th>3</th>\n",
       "      <td>Intestine</td>\n",
       "      <td>0.008</td>\n",
       "      <td>0.016</td>\n",
       "      <td>0.0588</td>\n",
       "      <td>0.490</td>\n",
       "    </tr>\n",
       "    <tr>\n",
       "      <th>4</th>\n",
       "      <td>Gills</td>\n",
       "      <td>0.015</td>\n",
       "      <td>0.015</td>\n",
       "      <td>0.0937</td>\n",
       "      <td>0.740</td>\n",
       "    </tr>\n",
       "    <tr>\n",
       "      <th>5</th>\n",
       "      <td>Gills</td>\n",
       "      <td>0.015</td>\n",
       "      <td>0.018</td>\n",
       "      <td>0.0998</td>\n",
       "      <td>0.730</td>\n",
       "    </tr>\n",
       "    <tr>\n",
       "      <th>6</th>\n",
       "      <td>Flesh</td>\n",
       "      <td>0.013</td>\n",
       "      <td>0.017</td>\n",
       "      <td>0.0500</td>\n",
       "      <td>0.700</td>\n",
       "    </tr>\n",
       "    <tr>\n",
       "      <th>7</th>\n",
       "      <td>Flesh</td>\n",
       "      <td>0.005</td>\n",
       "      <td>0.019</td>\n",
       "      <td>0.0455</td>\n",
       "      <td>0.690</td>\n",
       "    </tr>\n",
       "    <tr>\n",
       "      <th>8</th>\n",
       "      <td>Water</td>\n",
       "      <td>0.017</td>\n",
       "      <td>0.027</td>\n",
       "      <td>0.0142</td>\n",
       "      <td>0.010</td>\n",
       "    </tr>\n",
       "    <tr>\n",
       "      <th>9</th>\n",
       "      <td>Water</td>\n",
       "      <td>0.011</td>\n",
       "      <td>0.025</td>\n",
       "      <td>0.0120</td>\n",
       "      <td>0.011</td>\n",
       "    </tr>\n",
       "  </tbody>\n",
       "</table>\n",
       "</div>"
      ],
      "text/plain": [
       "     Samples     Cu     Cd      Zn     Pb\n",
       "0      Liver  0.320  0.012  0.2311  0.240\n",
       "1      Liver  0.284  0.009  0.1040  0.230\n",
       "2  Intestine  0.010  0.013  0.0590  0.420\n",
       "3  Intestine  0.008  0.016  0.0588  0.490\n",
       "4      Gills  0.015  0.015  0.0937  0.740\n",
       "5      Gills  0.015  0.018  0.0998  0.730\n",
       "6      Flesh  0.013  0.017  0.0500  0.700\n",
       "7      Flesh  0.005  0.019  0.0455  0.690\n",
       "8      Water  0.017  0.027  0.0142  0.010\n",
       "9      Water  0.011  0.025  0.0120  0.011"
      ]
     },
     "execution_count": 2,
     "metadata": {},
     "output_type": "execute_result"
    }
   ],
   "source": [
    "#Load dataset\n",
    "anova_data = pd.read_csv('raw_data.csv')\n",
    "anova_data"
   ]
  },
  {
   "cell_type": "code",
   "execution_count": 3,
   "metadata": {},
   "outputs": [
    {
     "name": "stdout",
     "output_type": "stream",
     "text": [
      "             df    sum_sq   mean_sq       F    PR(>F)\n",
      "C(Samples)  4.0  0.134854  0.033713  240.81  0.000007\n",
      "Residual    5.0  0.000700  0.000140     NaN       NaN\n"
     ]
    }
   ],
   "source": [
    "# Fit the one-way ANOVA model using the ols method for Cu\n",
    "model = ols(\"Cu ~ C(Samples)\", data=anova_data).fit()\n",
    "aov_table = sm.stats.anova_lm(model, typ=1)\n",
    "print(aov_table)"
   ]
  },
  {
   "attachments": {},
   "cell_type": "markdown",
   "metadata": {},
   "source": [
    "According to the result, the ANOVA has found a significant effect of \"Copper\" on the \"Samples\", as indicated by the very small p-value (0.000007). This suggests that there is a significant difference in the dependent variable among the different types of the \"Samples\" variable.\n",
    "\n",
    "The F-statistic (240.81) also indicates a large effect size, suggesting that the variability in the dependent variable among the different types of the \"Samples\" variable is much greater than the variability within each type of the \"Samples\" variable."
   ]
  },
  {
   "cell_type": "code",
   "execution_count": 4,
   "metadata": {},
   "outputs": [
    {
     "name": "stdout",
     "output_type": "stream",
     "text": [
      "   Multiple Comparison of Means - Tukey HSD, FWER=0.05    \n",
      "==========================================================\n",
      "  group1    group2  meandiff p-adj   lower   upper  reject\n",
      "----------------------------------------------------------\n",
      "    Flesh     Gills    0.006 0.9829 -0.0415  0.0535  False\n",
      "    Flesh Intestine      0.0    1.0 -0.0475  0.0475  False\n",
      "    Flesh     Liver    0.293    0.0  0.2455  0.3405   True\n",
      "    Flesh     Water    0.005 0.9913 -0.0425  0.0525  False\n",
      "    Gills Intestine   -0.006 0.9829 -0.0535  0.0415  False\n",
      "    Gills     Liver    0.287    0.0  0.2395  0.3345   True\n",
      "    Gills     Water   -0.001    1.0 -0.0485  0.0465  False\n",
      "Intestine     Liver    0.293    0.0  0.2455  0.3405   True\n",
      "Intestine     Water    0.005 0.9913 -0.0425  0.0525  False\n",
      "    Liver     Water   -0.288    0.0 -0.3355 -0.2405   True\n",
      "----------------------------------------------------------\n"
     ]
    }
   ],
   "source": [
    "# Perform a multiple comparison test using the Duncan method for Cu\n",
    "mc = MultiComparison(anova_data['Cu'], anova_data['Samples'])\n",
    "mc_results = mc.tukeyhsd()\n",
    "print(mc_results)"
   ]
  },
  {
   "attachments": {},
   "cell_type": "markdown",
   "metadata": {},
   "source": [
    "The Tukey HSD test is used to compare the means of all possible pairs of groups. In this case, the groups being compared are Flesh, Gills, Intestine, Liver, and Water.\n",
    "\n",
    "According to the analysis, the means of Flesh and Water, Flesh and Gills, and Gills and Water do not differ significantly from each other, as indicated by the high p-values (greater than 0.05) and the \"False\" values in the \"reject\" column.\n",
    "\n",
    "However, the means of Flesh and Liver, Gills and Liver, Intestine and Liver, and Liver and Water do differ significantly from each other, as indicated by the low p-values (less than 0.05) and the \"True\" values in the \"reject\" column. Meaning the null hypothesis in each of the pair is rejected."
   ]
  },
  {
   "cell_type": "code",
   "execution_count": 5,
   "metadata": {},
   "outputs": [
    {
     "name": "stdout",
     "output_type": "stream",
     "text": [
      "             df    sum_sq   mean_sq          F    PR(>F)\n",
      "C(Samples)  4.0  0.000261  0.000065  18.671429  0.003297\n",
      "Residual    5.0  0.000017  0.000003        NaN       NaN\n"
     ]
    }
   ],
   "source": [
    "# Fit the one-way ANOVA model using the ols method for Cd\n",
    "model = ols(\"Cd ~ C(Samples)\", data=anova_data).fit()\n",
    "aov_table = sm.stats.anova_lm(model, typ=1)\n",
    "print(aov_table)"
   ]
  },
  {
   "attachments": {},
   "cell_type": "markdown",
   "metadata": {},
   "source": [
    "Based on the output, the p-value is 0.003297, which is less than the typical significance level of 0.05. This suggests that there is a significant difference in the effect of Cadmium between at least two of the samples.\n",
    "\n",
    "Therefore, we can reject the null hypothesis, and conclude that there is a significant difference in the effect of Cadmium among at least some of the samples. "
   ]
  },
  {
   "cell_type": "code",
   "execution_count": 6,
   "metadata": {},
   "outputs": [
    {
     "name": "stdout",
     "output_type": "stream",
     "text": [
      "   Multiple Comparison of Means - Tukey HSD, FWER=0.05   \n",
      "=========================================================\n",
      "  group1    group2  meandiff p-adj   lower  upper  reject\n",
      "---------------------------------------------------------\n",
      "    Flesh     Gills  -0.0015 0.9195  -0.009  0.006  False\n",
      "    Flesh Intestine  -0.0035 0.4312  -0.011  0.004  False\n",
      "    Flesh     Liver  -0.0075 0.0501  -0.015    0.0  False\n",
      "    Flesh     Water    0.008 0.0392  0.0005 0.0155   True\n",
      "    Gills Intestine   -0.002 0.8154 -0.0095 0.0055  False\n",
      "    Gills     Liver   -0.006 0.1096 -0.0135 0.0015  False\n",
      "    Gills     Water   0.0095 0.0197   0.002  0.017   True\n",
      "Intestine     Liver   -0.004 0.3308 -0.0115 0.0035  False\n",
      "Intestine     Water   0.0115 0.0087   0.004  0.019   True\n",
      "    Liver     Water   0.0155 0.0023   0.008  0.023   True\n",
      "---------------------------------------------------------\n"
     ]
    }
   ],
   "source": [
    "# Perform a multiple comparison test using the Duncan method for Cd\n",
    "mc = MultiComparison(anova_data['Cd'], anova_data['Samples'])\n",
    "mc_results = mc.tukeyhsd()\n",
    "print(mc_results)"
   ]
  },
  {
   "attachments": {},
   "cell_type": "markdown",
   "metadata": {},
   "source": [
    "For the comparison of Cadmium and the samples, the ANOVA results show that there is a significant difference among the groups (p=0.0033). However, the Tukey HSD post-hoc test did not reveal any significant differences between the groups after correction for multiple comparisons, except for the comparison between Flesh and Water, where the mean difference was 0.008 and the p-value was 0.0392. This indicates that the concentration of Cadmium in the flesh and water samples may be significantly different."
   ]
  },
  {
   "cell_type": "code",
   "execution_count": 7,
   "metadata": {},
   "outputs": [
    {
     "name": "stdout",
     "output_type": "stream",
     "text": [
      "             df    sum_sq   mean_sq         F    PR(>F)\n",
      "C(Samples)  4.0  0.027711  0.006928  4.271993  0.071533\n",
      "Residual    5.0  0.008108  0.001622       NaN       NaN\n"
     ]
    }
   ],
   "source": [
    "# Fit the one-way ANOVA model using the ols method for Zn\n",
    "model = ols(\"Zn ~ C(Samples)\", data=anova_data).fit()\n",
    "aov_table = sm.stats.anova_lm(model, typ=1)\n",
    "print(aov_table)"
   ]
  },
  {
   "attachments": {},
   "cell_type": "markdown",
   "metadata": {},
   "source": [
    "For Zinc and samples, the p-value for the ANOVA test is 0.0715 which is greater than 0.05. Therefore, there is sufficient evidence to reject the null hypothesis that there is no significant difference in mean Zinc levels among the different samples."
   ]
  },
  {
   "cell_type": "code",
   "execution_count": 8,
   "metadata": {},
   "outputs": [
    {
     "name": "stdout",
     "output_type": "stream",
     "text": [
      "             df    sum_sq   mean_sq           F    PR(>F)\n",
      "C(Samples)  4.0  0.755608  0.188902  363.203422  0.000002\n",
      "Residual    5.0  0.002601  0.000520         NaN       NaN\n"
     ]
    }
   ],
   "source": [
    "# Fit the one-way ANOVA model using the ols method for Pb\n",
    "model = ols(\"Pb ~ C(Samples)\", data=anova_data).fit()\n",
    "aov_table = sm.stats.anova_lm(model, typ=1)\n",
    "print(aov_table)"
   ]
  },
  {
   "attachments": {},
   "cell_type": "markdown",
   "metadata": {},
   "source": [
    "Based on the ANOVA results, it can be concluded that there is a significant difference between the lead in the different samples (F = 363.203, p < 0.0001). To determine which groups are significantly different from each other, a post-hoc Tukey HSD test can be perform."
   ]
  },
  {
   "cell_type": "code",
   "execution_count": 9,
   "metadata": {},
   "outputs": [
    {
     "name": "stdout",
     "output_type": "stream",
     "text": [
      "   Multiple Comparison of Means - Tukey HSD, FWER=0.05    \n",
      "==========================================================\n",
      "  group1    group2  meandiff p-adj   lower   upper  reject\n",
      "----------------------------------------------------------\n",
      "    Flesh     Gills     0.04 0.4817 -0.0515  0.1315  False\n",
      "    Flesh Intestine    -0.24 0.0007 -0.3315 -0.1485   True\n",
      "    Flesh     Liver    -0.46    0.0 -0.5515 -0.3685   True\n",
      "    Flesh     Water  -0.6845    0.0  -0.776  -0.593   True\n",
      "    Gills Intestine    -0.28 0.0003 -0.3715 -0.1885   True\n",
      "    Gills     Liver     -0.5    0.0 -0.5915 -0.4085   True\n",
      "    Gills     Water  -0.7245    0.0  -0.816  -0.633   True\n",
      "Intestine     Liver    -0.22 0.0011 -0.3115 -0.1285   True\n",
      "Intestine     Water  -0.4445    0.0  -0.536  -0.353   True\n",
      "    Liver     Water  -0.2245  0.001  -0.316  -0.133   True\n",
      "----------------------------------------------------------\n"
     ]
    }
   ],
   "source": [
    "# Perform a multiple comparison test using the Duncan method\n",
    "mc = MultiComparison(anova_data['Pb'], anova_data['Samples'])\n",
    "mc_results = mc.tukeyhsd()\n",
    "print(mc_results)"
   ]
  },
  {
   "attachments": {},
   "cell_type": "markdown",
   "metadata": {},
   "source": [
    "For Lead, the ANOVA results show a p-value of less than 0.05, indicating we have evidence to reject the null hypothesis that the means of the groups are equal. The Tukey HSD test shows that all pairwise comparisons between the groups are statistically significant, except for Flesh vs. Gills, which is not statistically significant."
   ]
  }
 ],
 "metadata": {
  "kernelspec": {
   "display_name": "Python 3 (ipykernel)",
   "language": "python",
   "name": "python3"
  },
  "language_info": {
   "codemirror_mode": {
    "name": "ipython",
    "version": 3
   },
   "file_extension": ".py",
   "mimetype": "text/x-python",
   "name": "python",
   "nbconvert_exporter": "python",
   "pygments_lexer": "ipython3",
   "version": "3.11.2"
  },
  "orig_nbformat": 4
 },
 "nbformat": 4,
 "nbformat_minor": 2
}
