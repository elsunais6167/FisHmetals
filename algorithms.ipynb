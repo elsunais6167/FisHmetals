{
 "cells": [
  {
   "cell_type": "code",
   "execution_count": 1,
   "metadata": {},
   "outputs": [],
   "source": [
    "#Load statistical analysis\n",
    "import pandas as pd\n",
    "import statsmodels.api as sm\n",
    "from statsmodels.formula.api import ols\n",
    "from statsmodels.stats.multicomp import MultiComparison, pairwise_tukeyhsd"
   ]
  },
  {
   "cell_type": "code",
   "execution_count": 2,
   "metadata": {},
   "outputs": [
    {
     "data": {
      "text/html": [
       "<div>\n",
       "<style scoped>\n",
       "    .dataframe tbody tr th:only-of-type {\n",
       "        vertical-align: middle;\n",
       "    }\n",
       "\n",
       "    .dataframe tbody tr th {\n",
       "        vertical-align: top;\n",
       "    }\n",
       "\n",
       "    .dataframe thead th {\n",
       "        text-align: right;\n",
       "    }\n",
       "</style>\n",
       "<table border=\"1\" class=\"dataframe\">\n",
       "  <thead>\n",
       "    <tr style=\"text-align: right;\">\n",
       "      <th></th>\n",
       "      <th>Samples</th>\n",
       "      <th>Cu</th>\n",
       "      <th>Cd</th>\n",
       "      <th>Zn</th>\n",
       "      <th>Pb</th>\n",
       "    </tr>\n",
       "  </thead>\n",
       "  <tbody>\n",
       "    <tr>\n",
       "      <th>0</th>\n",
       "      <td>Liver</td>\n",
       "      <td>0.320</td>\n",
       "      <td>0.012</td>\n",
       "      <td>0.2311</td>\n",
       "      <td>0.24</td>\n",
       "    </tr>\n",
       "    <tr>\n",
       "      <th>1</th>\n",
       "      <td>Liver</td>\n",
       "      <td>0.284</td>\n",
       "      <td>0.009</td>\n",
       "      <td>0.1040</td>\n",
       "      <td>0.23</td>\n",
       "    </tr>\n",
       "    <tr>\n",
       "      <th>2</th>\n",
       "      <td>Intestine</td>\n",
       "      <td>0.010</td>\n",
       "      <td>0.013</td>\n",
       "      <td>0.0590</td>\n",
       "      <td>0.42</td>\n",
       "    </tr>\n",
       "    <tr>\n",
       "      <th>3</th>\n",
       "      <td>Intestine</td>\n",
       "      <td>0.008</td>\n",
       "      <td>0.016</td>\n",
       "      <td>0.0588</td>\n",
       "      <td>0.49</td>\n",
       "    </tr>\n",
       "    <tr>\n",
       "      <th>4</th>\n",
       "      <td>Gills</td>\n",
       "      <td>0.015</td>\n",
       "      <td>0.015</td>\n",
       "      <td>0.0937</td>\n",
       "      <td>0.74</td>\n",
       "    </tr>\n",
       "    <tr>\n",
       "      <th>5</th>\n",
       "      <td>Gills</td>\n",
       "      <td>0.015</td>\n",
       "      <td>0.018</td>\n",
       "      <td>0.0998</td>\n",
       "      <td>0.73</td>\n",
       "    </tr>\n",
       "    <tr>\n",
       "      <th>6</th>\n",
       "      <td>Flesh</td>\n",
       "      <td>0.013</td>\n",
       "      <td>0.017</td>\n",
       "      <td>0.0500</td>\n",
       "      <td>0.70</td>\n",
       "    </tr>\n",
       "    <tr>\n",
       "      <th>7</th>\n",
       "      <td>Flesh</td>\n",
       "      <td>0.005</td>\n",
       "      <td>0.019</td>\n",
       "      <td>0.0455</td>\n",
       "      <td>0.69</td>\n",
       "    </tr>\n",
       "  </tbody>\n",
       "</table>\n",
       "</div>"
      ],
      "text/plain": [
       "     Samples     Cu     Cd      Zn    Pb\n",
       "0      Liver  0.320  0.012  0.2311  0.24\n",
       "1      Liver  0.284  0.009  0.1040  0.23\n",
       "2  Intestine  0.010  0.013  0.0590  0.42\n",
       "3  Intestine  0.008  0.016  0.0588  0.49\n",
       "4      Gills  0.015  0.015  0.0937  0.74\n",
       "5      Gills  0.015  0.018  0.0998  0.73\n",
       "6      Flesh  0.013  0.017  0.0500  0.70\n",
       "7      Flesh  0.005  0.019  0.0455  0.69"
      ]
     },
     "execution_count": 2,
     "metadata": {},
     "output_type": "execute_result"
    }
   ],
   "source": [
    "#Load dataset\n",
    "anova_data = pd.read_csv('raw_data.csv')\n",
    "anova_data"
   ]
  },
  {
   "cell_type": "code",
   "execution_count": 3,
   "metadata": {},
   "outputs": [
    {
     "name": "stdout",
     "output_type": "stream",
     "text": [
      "             df    sum_sq   mean_sq          F    PR(>F)\n",
      "C(Samples)  3.0  0.127069  0.042356  248.42522  0.000053\n",
      "Residual    4.0  0.000682  0.000171        NaN       NaN\n"
     ]
    }
   ],
   "source": [
    "# Fit the one-way ANOVA model using the ols method for Cu\n",
    "model = ols(\"Cu ~ C(Samples)\", data=anova_data).fit()\n",
    "aov_table = sm.stats.anova_lm(model, typ=1)\n",
    "print(aov_table)"
   ]
  },
  {
   "attachments": {},
   "cell_type": "markdown",
   "metadata": {},
   "source": [
    "According to the result, the ANOVA has found a significant effect of \"Copper\" on the \"Samples\", as indicated by the very small p-value (0.000053). This suggests that there is a significant difference in the dependent variable among the different types of the \"Samples\" variable.\n",
    "\n",
    "The F-statistic (248.43) also indicates a large effect size, suggesting that the variability in the dependent variable among the different types of the \"Samples\" variable is much greater than the variability within each type of the \"Samples\" variable."
   ]
  },
  {
   "cell_type": "code",
   "execution_count": 4,
   "metadata": {},
   "outputs": [
    {
     "name": "stdout",
     "output_type": "stream",
     "text": [
      "   Multiple Comparison of Means - Tukey HSD, FWER=0.05   \n",
      "=========================================================\n",
      "  group1    group2  meandiff p-adj   lower  upper  reject\n",
      "---------------------------------------------------------\n",
      "    Flesh     Gills    0.006 0.9642 -0.0472 0.0592  False\n",
      "    Flesh Intestine      0.0    1.0 -0.0532 0.0532  False\n",
      "    Flesh     Liver    0.293 0.0001  0.2398 0.3462   True\n",
      "    Gills Intestine   -0.006 0.9642 -0.0592 0.0472  False\n",
      "    Gills     Liver    0.287 0.0001  0.2338 0.3402   True\n",
      "Intestine     Liver    0.293 0.0001  0.2398 0.3462   True\n",
      "---------------------------------------------------------\n"
     ]
    }
   ],
   "source": [
    "# Perform a multiple comparison test using the Duncan method for Cu\n",
    "mc = MultiComparison(anova_data['Cu'], anova_data['Samples'])\n",
    "mc_results = mc.tukeyhsd()\n",
    "print(mc_results)"
   ]
  },
  {
   "attachments": {},
   "cell_type": "markdown",
   "metadata": {},
   "source": [
    "The Tukey HSD test is used to compare the means of all possible pairs of groups. In this case, the groups being compared are Flesh, Gills, Intestine, and Liver.\n",
    "\n",
    "According to the analysis, the means of Flesh and Gills, Gills and Intestine, and Flesh and Intestine do not differ significantly from each other, as indicated by the high p-values (greater than 0.05) and the \"False\" values in the \"reject\" column.\n",
    "\n",
    "However, the means of Flesh and Liver, Gills and Liver, and Intestine and Liver do differ significantly from each other, as indicated by the low p-values (less than 0.05) and the \"True\" values in the \"reject\" column. Meaning the null hypothesis in each of the pair is rejected."
   ]
  },
  {
   "cell_type": "code",
   "execution_count": 5,
   "metadata": {},
   "outputs": [
    {
     "name": "stdout",
     "output_type": "stream",
     "text": [
      "             df    sum_sq   mean_sq         F    PR(>F)\n",
      "C(Samples)  3.0  0.000063  0.000021  5.451613  0.067475\n",
      "Residual    4.0  0.000016  0.000004       NaN       NaN\n"
     ]
    }
   ],
   "source": [
    "# Fit the one-way ANOVA model using the ols method for Cd\n",
    "model = ols(\"Cd ~ C(Samples)\", data=anova_data).fit()\n",
    "aov_table = sm.stats.anova_lm(model, typ=1)\n",
    "print(aov_table)"
   ]
  },
  {
   "attachments": {},
   "cell_type": "markdown",
   "metadata": {},
   "source": [
    "Based on the output, the p-value is 0.067475, which is greater than the typical significance level of 0.05. This suggests that there is no significant difference in the effect of Cadmium between the samples.Therefore, the null hypothesis is not rejected."
   ]
  },
  {
   "cell_type": "code",
   "execution_count": 6,
   "metadata": {},
   "outputs": [
    {
     "name": "stdout",
     "output_type": "stream",
     "text": [
      "             df    sum_sq   mean_sq         F    PR(>F)\n",
      "C(Samples)  3.0  0.017564  0.005855  2.889024  0.165946\n",
      "Residual    4.0  0.008106  0.002026       NaN       NaN\n"
     ]
    }
   ],
   "source": [
    "# Fit the one-way ANOVA model using the ols method for Zn\n",
    "model = ols(\"Zn ~ C(Samples)\", data=anova_data).fit()\n",
    "aov_table = sm.stats.anova_lm(model, typ=1)\n",
    "print(aov_table)"
   ]
  },
  {
   "attachments": {},
   "cell_type": "markdown",
   "metadata": {},
   "source": [
    "For Zinc and samples, the p-value for the ANOVA test is 0.165946 which is greater than 0.05. Therefore, there is sufficient evidence for not rejecting the null hypothesis that there is no significant difference in mean Zinc levels among the different samples."
   ]
  },
  {
   "cell_type": "code",
   "execution_count": 7,
   "metadata": {},
   "outputs": [
    {
     "name": "stdout",
     "output_type": "stream",
     "text": [
      "             df  sum_sq   mean_sq           F    PR(>F)\n",
      "C(Samples)  3.0  0.3238  0.107933  166.051282  0.000119\n",
      "Residual    4.0  0.0026  0.000650         NaN       NaN\n"
     ]
    }
   ],
   "source": [
    "# Fit the one-way ANOVA model using the ols method for Pb\n",
    "model = ols(\"Pb ~ C(Samples)\", data=anova_data).fit()\n",
    "aov_table = sm.stats.anova_lm(model, typ=1)\n",
    "print(aov_table)"
   ]
  },
  {
   "attachments": {},
   "cell_type": "markdown",
   "metadata": {},
   "source": [
    "Based on the ANOVA results, it can be concluded that there is a significant difference between the lead in the different samples (F = 166.051, p < 0.000119). To determine which groups are significantly different from each other, a post-hoc Tukey HSD test can be perform."
   ]
  },
  {
   "cell_type": "code",
   "execution_count": 8,
   "metadata": {},
   "outputs": [
    {
     "name": "stdout",
     "output_type": "stream",
     "text": [
      "   Multiple Comparison of Means - Tukey HSD, FWER=0.05    \n",
      "==========================================================\n",
      "  group1    group2  meandiff p-adj   lower   upper  reject\n",
      "----------------------------------------------------------\n",
      "    Flesh     Gills     0.04 0.4825 -0.0638  0.1438  False\n",
      "    Flesh Intestine    -0.24 0.0025 -0.3438 -0.1362   True\n",
      "    Flesh     Liver    -0.46 0.0002 -0.5638 -0.3562   True\n",
      "    Gills Intestine    -0.28 0.0014 -0.3838 -0.1762   True\n",
      "    Gills     Liver     -0.5 0.0001 -0.6038 -0.3962   True\n",
      "Intestine     Liver    -0.22 0.0034 -0.3238 -0.1162   True\n",
      "----------------------------------------------------------\n"
     ]
    }
   ],
   "source": [
    "# Perform a multiple comparison test using the Duncan method\n",
    "mc = MultiComparison(anova_data['Pb'], anova_data['Samples'])\n",
    "mc_results = mc.tukeyhsd()\n",
    "print(mc_results)"
   ]
  },
  {
   "attachments": {},
   "cell_type": "markdown",
   "metadata": {},
   "source": [
    "For Lead, the ANOVA results show a p-value of less than 0.05, indicating we have evidence to reject the null hypothesis that the means of the groups are equal. The Tukey HSD test shows that all pairwise comparisons between the groups are statistically significant, except for Flesh vs. Gills, which is not statistically significant."
   ]
  }
 ],
 "metadata": {
  "kernelspec": {
   "display_name": "Python 3 (ipykernel)",
   "language": "python",
   "name": "python3"
  },
  "language_info": {
   "codemirror_mode": {
    "name": "ipython",
    "version": 3
   },
   "file_extension": ".py",
   "mimetype": "text/x-python",
   "name": "python",
   "nbconvert_exporter": "python",
   "pygments_lexer": "ipython3",
   "version": "3.11.2"
  },
  "orig_nbformat": 4
 },
 "nbformat": 4,
 "nbformat_minor": 2
}
